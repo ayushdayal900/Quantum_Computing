{
 "cells": [
  {
   "cell_type": "code",
   "execution_count": 1,
   "metadata": {},
   "outputs": [],
   "source": [
    "# !pip install qiskit\n",
    "# !pip install qiskit-aer\n",
    "# !pip show qiskit-aer\n"
   ]
  },
  {
   "cell_type": "code",
   "execution_count": null,
   "metadata": {},
   "outputs": [],
   "source": []
  },
  {
   "cell_type": "code",
   "execution_count": 2,
   "metadata": {},
   "outputs": [],
   "source": [
    "from qiskit import *\n",
    "import matplotlib.pyplot as plt # for plotting purpose\n",
    "import numpy as np\n",
    "\n",
    "from qiskit_aer import *\n",
    "from qiskit import transpile  # instead of EXCUTE command ..it runs the job\n"
   ]
  },
  {
   "cell_type": "code",
   "execution_count": 3,
   "metadata": {},
   "outputs": [],
   "source": [
    "\n",
    "my_list = [1,3,5,2,4,9,5,8,0,7,6]"
   ]
  },
  {
   "cell_type": "code",
   "execution_count": 4,
   "metadata": {},
   "outputs": [],
   "source": [
    "def the_oracle(my_input):\n",
    "  winner=7\n",
    "  if my_input is winner:\n",
    "    response = True\n",
    "  else:\n",
    "    response = False\n",
    "  return response"
   ]
  },
  {
   "cell_type": "code",
   "execution_count": 5,
   "metadata": {},
   "outputs": [
    {
     "name": "stdout",
     "output_type": "stream",
     "text": [
      "wineer found at index 9\n",
      "10 calls to the Oracle used\n"
     ]
    }
   ],
   "source": [
    "for index, trial_number in enumerate(my_list):\n",
    "  if the_oracle(trial_number) is True:\n",
    "    print('wineer found at index %i'%index)\n",
    "    print('%i calls to the Oracle used'%(index+1))\n",
    "    break"
   ]
  },
  {
   "cell_type": "code",
   "execution_count": 6,
   "metadata": {},
   "outputs": [
    {
     "data": {
      "text/html": [
       "<pre style=\"word-wrap: normal;white-space: pre;background: #fff0;line-height: 1.1;font-family: &quot;Courier New&quot;,Courier,monospace\">        \n",
       "q_0: ─■─\n",
       "      │ \n",
       "q_1: ─■─\n",
       "        </pre>"
      ],
      "text/plain": [
       "        \n",
       "q_0: ─■─\n",
       "      │ \n",
       "q_1: ─■─\n",
       "        "
      ]
     },
     "execution_count": 6,
     "metadata": {},
     "output_type": "execute_result"
    }
   ],
   "source": [
    "oracle = QuantumCircuit(2,name='oracle')  #define the oracle of 2 quibits [0,1] and name oracle\n",
    "oracle.cz(0,1)  #change the sign of winner is done by cz gate\n",
    "oracle.to_gate() #make oracle into its own gate (forming gate(ckt) of oracle)\n",
    "oracle.draw()   #to draw ckt\n",
    "# currently cz gate act as a oracle"
   ]
  },
  {
   "cell_type": "code",
   "execution_count": 7,
   "metadata": {},
   "outputs": [
    {
     "data": {
      "text/html": [
       "<pre style=\"word-wrap: normal;white-space: pre;background: #fff0;line-height: 1.1;font-family: &quot;Courier New&quot;,Courier,monospace\">     ┌───┐┌─────────┐\n",
       "q_0: ┤ H ├┤0        ├\n",
       "     ├───┤│  oracle │\n",
       "q_1: ┤ H ├┤1        ├\n",
       "     └───┘└─────────┘\n",
       "c: 2/════════════════\n",
       "                     </pre>"
      ],
      "text/plain": [
       "     ┌───┐┌─────────┐\n",
       "q_0: ┤ H ├┤0        ├\n",
       "     ├───┤│  oracle │\n",
       "q_1: ┤ H ├┤1        ├\n",
       "     └───┘└─────────┘\n",
       "c: 2/════════════════\n",
       "                     "
      ]
     },
     "execution_count": 7,
     "metadata": {},
     "output_type": "execute_result"
    }
   ],
   "source": [
    "#to check wether the oracle is doing the right thing or not...we can ckeck this by preparing\n",
    "# a superposition state of all my qubits by applying a hadmard gate on each one of them\n",
    "# and this way we can query each one of the i/p state simultaneously to the oracle\n",
    "\n",
    "# let call state s for superpostion\n",
    "backend = Aer.get_backend('statevector_simulator')\n",
    "                                                                                # query ==RRRRRRRRRRRRRRRRRRRRRRRRRRRRRRRRRRRRRRRRRRRRRRRRRRRRRRRRRRRRRRRRRRRRRRRRRRRRRRRRRRRRRRRRRRRRRRRR\n",
    "\n",
    "grover_circ = QuantumCircuit(2,2) #define grover ckt : 2 quibits and 2 classical registers\n",
    "grover_circ.h([0,1])  #this is hadamard gate is used for superposition (prepares the superposition state s) it prepares all 4 superposition states [(00,01,10,11)]\n",
    "grover_circ.append(oracle,[0,1]) # adding oracle on grover ckt so that we can query each one of states at same time\n",
    "grover_circ.draw()  #to draw grover ckt\n"
   ]
  },
  {
   "cell_type": "code",
   "execution_count": 8,
   "metadata": {},
   "outputs": [],
   "source": [
    "new_circ = transpile(grover_circ, backend)  # to execute this job on simulator\n",
    "job = backend.run(new_circ)\n",
    "result = job.result() # get back the result"
   ]
  },
  {
   "cell_type": "code",
   "execution_count": 9,
   "metadata": {},
   "outputs": [
    {
     "data": {
      "text/plain": [
       "array([ 0.5+0.j,  0.5+0.j,  0.5+0.j, -0.5+0.j])"
      ]
     },
     "execution_count": 9,
     "metadata": {},
     "output_type": "execute_result"
    }
   ],
   "source": [
    "sv = result.get_statevector() # to get state vector\n",
    "np.around(sv,2) # in result we get the one state flipped (11)"
   ]
  },
  {
   "cell_type": "code",
   "execution_count": 10,
   "metadata": {},
   "outputs": [
    {
     "data": {
      "text/plain": [
       "Instruction(name='reflection', num_qubits=2, num_clbits=0, params=[])"
      ]
     },
     "execution_count": 10,
     "metadata": {},
     "output_type": "execute_result"
    }
   ],
   "source": [
    "# reflection operator is used for amplitude amplification\n",
    "# anplitude modification is to\n",
    "  # --> amplify the probabilities of winning state w ans\n",
    "  # --> reduce  the probabilities of non winning state\n",
    "reflection = QuantumCircuit(2,name='reflection')\n",
    "reflection.h([0,1])\n",
    "reflection.z([0,1])\n",
    "reflection.cz(0,1)\n",
    "reflection.h([0,1])\n",
    "reflection.to_gate()\n"
   ]
  },
  {
   "cell_type": "code",
   "execution_count": 11,
   "metadata": {},
   "outputs": [
    {
     "data": {
      "text/html": [
       "<pre style=\"word-wrap: normal;white-space: pre;background: #fff0;line-height: 1.1;font-family: &quot;Courier New&quot;,Courier,monospace\">     ┌───┐┌───┐   ┌───┐\n",
       "q_0: ┤ H ├┤ Z ├─■─┤ H ├\n",
       "     ├───┤├───┤ │ ├───┤\n",
       "q_1: ┤ H ├┤ Z ├─■─┤ H ├\n",
       "     └───┘└───┘   └───┘</pre>"
      ],
      "text/plain": [
       "     ┌───┐┌───┐   ┌───┐\n",
       "q_0: ┤ H ├┤ Z ├─■─┤ H ├\n",
       "     ├───┤├───┤ │ ├───┤\n",
       "q_1: ┤ H ├┤ Z ├─■─┤ H ├\n",
       "     └───┘└───┘   └───┘"
      ]
     },
     "execution_count": 11,
     "metadata": {},
     "output_type": "execute_result"
    }
   ],
   "source": [
    "reflection.draw()"
   ]
  },
  {
   "cell_type": "code",
   "execution_count": 12,
   "metadata": {},
   "outputs": [
    {
     "data": {
      "text/plain": [
       "<qiskit.circuit.instructionset.InstructionSet at 0x20f7b8cddb0>"
      ]
     },
     "execution_count": 12,
     "metadata": {},
     "output_type": "execute_result"
    }
   ],
   "source": [
    "backend = Aer.get_backend('qasm_simulator')\n",
    "grover_circ = QuantumCircuit(2,2)\n",
    "grover_circ.h([0,1])\n",
    "grover_circ.append(oracle,[0,1])\n",
    "grover_circ.append(reflection,[0,1])\n",
    "grover_circ.measure([0,1],[0,1])"
   ]
  },
  {
   "cell_type": "code",
   "execution_count": 13,
   "metadata": {},
   "outputs": [
    {
     "data": {
      "text/html": [
       "<pre style=\"word-wrap: normal;white-space: pre;background: #fff0;line-height: 1.1;font-family: &quot;Courier New&quot;,Courier,monospace\">     ┌───┐┌─────────┐┌─────────────┐┌─┐   \n",
       "q_0: ┤ H ├┤0        ├┤0            ├┤M├───\n",
       "     ├───┤│  oracle ││  reflection │└╥┘┌─┐\n",
       "q_1: ┤ H ├┤1        ├┤1            ├─╫─┤M├\n",
       "     └───┘└─────────┘└─────────────┘ ║ └╥┘\n",
       "c: 2/════════════════════════════════╩══╩═\n",
       "                                     0  1 </pre>"
      ],
      "text/plain": [
       "     ┌───┐┌─────────┐┌─────────────┐┌─┐   \n",
       "q_0: ┤ H ├┤0        ├┤0            ├┤M├───\n",
       "     ├───┤│  oracle ││  reflection │└╥┘┌─┐\n",
       "q_1: ┤ H ├┤1        ├┤1            ├─╫─┤M├\n",
       "     └───┘└─────────┘└─────────────┘ ║ └╥┘\n",
       "c: 2/════════════════════════════════╩══╩═\n",
       "                                     0  1 "
      ]
     },
     "execution_count": 13,
     "metadata": {},
     "output_type": "execute_result"
    }
   ],
   "source": [
    "grover_circ.draw()"
   ]
  },
  {
   "cell_type": "code",
   "execution_count": 14,
   "metadata": {},
   "outputs": [
    {
     "data": {
      "text/plain": [
       "{'11': 1}"
      ]
     },
     "execution_count": 14,
     "metadata": {},
     "output_type": "execute_result"
    }
   ],
   "source": [
    "new_circ = transpile(grover_circ, backend)\n",
    "job = backend.run(new_circ,shots=1)\n",
    "result = job.result()\n",
    "result.get_counts()"
   ]
  }
 ],
 "metadata": {
  "kernelspec": {
   "display_name": "Python 3",
   "language": "python",
   "name": "python3"
  },
  "language_info": {
   "codemirror_mode": {
    "name": "ipython",
    "version": 3
   },
   "file_extension": ".py",
   "mimetype": "text/x-python",
   "name": "python",
   "nbconvert_exporter": "python",
   "pygments_lexer": "ipython3",
   "version": "3.11.3"
  }
 },
 "nbformat": 4,
 "nbformat_minor": 2
}
